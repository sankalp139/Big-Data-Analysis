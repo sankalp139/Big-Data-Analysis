{
  "nbformat": 4,
  "nbformat_minor": 0,
  "metadata": {
    "kernelspec": {
      "display_name": "Python 3",
      "language": "python",
      "name": "python3"
    },
    "language_info": {
      "codemirror_mode": {
        "name": "ipython",
        "version": 3
      },
      "file_extension": ".py",
      "mimetype": "text/x-python",
      "name": "python",
      "nbconvert_exporter": "python",
      "pygments_lexer": "ipython3",
      "version": "3.7.4"
    },
    "toc": {
      "colors": {
        "hover_highlight": "#DAA520",
        "navigate_num": "#000000",
        "navigate_text": "#333333",
        "running_highlight": "#FF0000",
        "selected_highlight": "#FFD700",
        "sidebar_border": "#EEEEEE",
        "wrapper_background": "#FFFFFF"
      },
      "moveMenuLeft": true,
      "nav_menu": {
        "height": "300px",
        "width": "252px"
      },
      "navigate_menu": true,
      "number_sections": true,
      "sideBar": true,
      "threshold": 4,
      "toc_cell": false,
      "toc_section_display": "block",
      "toc_window_display": false,
      "widenNotebook": false
    },
    "colab": {
      "name": "A4.ipynb",
      "provenance": [],
      "collapsed_sections": []
    }
  },
  "cells": [
    {
      "cell_type": "markdown",
      "metadata": {
        "nbgrader": {
          "grade": false,
          "grade_id": "title-cell",
          "locked": true,
          "schema_version": 2,
          "solution": false
        },
        "id": "RW82b4ZNIVV6"
      },
      "source": [
        "# Assignment 4\n",
        "\n",
        "This assignment is meant to exercise you on **Spark** and understanding of **Finding Similar Items** and **Clustering**.\n",
        "\n",
        "To receive credit, answer all questions correctly and submit to Canvas before the deadline.\n",
        "\n",
        "**This assignment is due Sunday, Dec 12 at 11:59 PM.**"
      ]
    },
    {
      "cell_type": "markdown",
      "metadata": {
        "id": "2ubOP7WIyJaj"
      },
      "source": [
        "**YOUR FULL NAME (1 POINT)**: SANKALP SINGH RATHORE"
      ]
    },
    {
      "cell_type": "markdown",
      "metadata": {
        "id": "-iX4wlC7qBM4"
      },
      "source": [
        "## Collaboration Policy\n",
        "\n",
        "Data science is a collaborative activity. While you may talk with others about the assignment, we ask that you **write your solutions individually**. If you do discuss the assignment with others, please **include their names** below."
      ]
    },
    {
      "cell_type": "markdown",
      "metadata": {
        "id": "uAZav0BiqBM5"
      },
      "source": [
        "**Collaborators**: *list collaborators here*"
      ]
    },
    {
      "cell_type": "code",
      "metadata": {
        "id": "Sl5QQmtggg2O"
      },
      "source": [
        "# import necessary packages\n",
        "import numpy as np\n",
        "import matplotlib.pyplot as plt\n",
        "import pandas as pd\n",
        "import seaborn as sns\n",
        "plt.style.use('fivethirtyeight')\n",
        "%matplotlib inline"
      ],
      "execution_count": 27,
      "outputs": []
    },
    {
      "cell_type": "markdown",
      "metadata": {
        "id": "Q4hngLaGUJe1"
      },
      "source": [
        "# Part 1: Spark (19 points)\n",
        "\n",
        "In the classroom, we have learned how to write a word count task in Spark using notebook. Please feel free to use the example as a reference to finish this task.\n",
        "\n",
        "Now you will write your first Spark job to accomplish the following task:\n",
        "\n",
        "1. Outputs the number of words that start with each letter (i.e., 52 letters as A, B, C, ... Z, and a, b, c, ..., z). This means that for every letter we want to count the total number of (non-unique) words that start with that letter. **Example: every occurrence of 'Apple2019' as a word should contribute 1 count to letter A.**\n",
        "\n",
        "1. Run your program over the same input data pg100.txt as in the classroom and output the result as a dataframe similarly as the example shown in class."
      ]
    },
    {
      "cell_type": "code",
      "metadata": {
        "id": "VTDHrsY-UJe3",
        "colab": {
          "base_uri": "https://localhost:8080/"
        },
        "outputId": "d0c21117-04f1-4154-c03f-c949f22eb50d"
      },
      "source": [
        "!pip install pyspark\n",
        "!pip install -U -q PyDrive\n",
        "!apt-get update\n",
        "!apt install openjdk-8-jdk-headless -qq\n",
        "import os\n",
        "os.environ[\"JAVA_HOME\"] = \"/usr/lib/jvm/java-8-openjdk-amd64\""
      ],
      "execution_count": null,
      "outputs": [
        {
          "output_type": "stream",
          "name": "stdout",
          "text": [
            "Collecting pyspark\n",
            "  Downloading pyspark-3.2.0.tar.gz (281.3 MB)\n",
            "\u001b[K     |████████████████████████████████| 281.3 MB 41 kB/s \n",
            "\u001b[?25hCollecting py4j==0.10.9.2\n",
            "  Downloading py4j-0.10.9.2-py2.py3-none-any.whl (198 kB)\n",
            "\u001b[K     |████████████████████████████████| 198 kB 48.5 MB/s \n",
            "\u001b[?25hBuilding wheels for collected packages: pyspark\n",
            "  Building wheel for pyspark (setup.py) ... \u001b[?25l\u001b[?25hdone\n",
            "  Created wheel for pyspark: filename=pyspark-3.2.0-py2.py3-none-any.whl size=281805912 sha256=31adad2dcba8d37b89a3de22412fd40ee748cffbb65bf90219bf62d08262c43f\n",
            "  Stored in directory: /root/.cache/pip/wheels/0b/de/d2/9be5d59d7331c6c2a7c1b6d1a4f463ce107332b1ecd4e80718\n",
            "Successfully built pyspark\n",
            "Installing collected packages: py4j, pyspark\n",
            "Successfully installed py4j-0.10.9.2 pyspark-3.2.0\n",
            "Get:1 https://cloud.r-project.org/bin/linux/ubuntu bionic-cran40/ InRelease [3,626 B]\n",
            "Ign:2 https://developer.download.nvidia.com/compute/cuda/repos/ubuntu1804/x86_64  InRelease\n",
            "Get:3 http://ppa.launchpad.net/c2d4u.team/c2d4u4.0+/ubuntu bionic InRelease [15.9 kB]\n",
            "Ign:4 https://developer.download.nvidia.com/compute/machine-learning/repos/ubuntu1804/x86_64  InRelease\n",
            "Get:5 https://developer.download.nvidia.com/compute/cuda/repos/ubuntu1804/x86_64  Release [696 B]\n",
            "Hit:6 https://developer.download.nvidia.com/compute/machine-learning/repos/ubuntu1804/x86_64  Release\n",
            "Get:7 https://developer.download.nvidia.com/compute/cuda/repos/ubuntu1804/x86_64  Release.gpg [836 B]\n",
            "Hit:8 http://archive.ubuntu.com/ubuntu bionic InRelease\n",
            "Hit:9 http://ppa.launchpad.net/cran/libgit2/ubuntu bionic InRelease\n",
            "Get:10 http://security.ubuntu.com/ubuntu bionic-security InRelease [88.7 kB]\n",
            "Get:11 http://archive.ubuntu.com/ubuntu bionic-updates InRelease [88.7 kB]\n",
            "Hit:12 http://ppa.launchpad.net/deadsnakes/ppa/ubuntu bionic InRelease\n",
            "Get:14 http://ppa.launchpad.net/graphics-drivers/ppa/ubuntu bionic InRelease [21.3 kB]\n",
            "Get:15 https://developer.download.nvidia.com/compute/cuda/repos/ubuntu1804/x86_64  Packages [829 kB]\n",
            "Get:16 http://archive.ubuntu.com/ubuntu bionic-backports InRelease [74.6 kB]\n",
            "Get:17 http://ppa.launchpad.net/c2d4u.team/c2d4u4.0+/ubuntu bionic/main Sources [1,813 kB]\n",
            "Get:18 http://security.ubuntu.com/ubuntu bionic-security/universe amd64 Packages [1,444 kB]\n",
            "Get:19 http://security.ubuntu.com/ubuntu bionic-security/restricted amd64 Packages [691 kB]\n",
            "Get:20 http://security.ubuntu.com/ubuntu bionic-security/main amd64 Packages [2,461 kB]\n",
            "Get:21 http://ppa.launchpad.net/c2d4u.team/c2d4u4.0+/ubuntu bionic/main amd64 Packages [930 kB]\n",
            "Get:22 http://archive.ubuntu.com/ubuntu bionic-updates/main amd64 Packages [2,898 kB]\n",
            "Get:23 http://archive.ubuntu.com/ubuntu bionic-updates/universe amd64 Packages [2,225 kB]\n",
            "Get:24 http://ppa.launchpad.net/graphics-drivers/ppa/ubuntu bionic/main amd64 Packages [44.7 kB]\n",
            "Get:25 http://archive.ubuntu.com/ubuntu bionic-updates/restricted amd64 Packages [725 kB]\n",
            "Fetched 14.4 MB in 4s (4,043 kB/s)\n",
            "Reading package lists... Done\n",
            "The following additional packages will be installed:\n",
            "  openjdk-8-jre-headless\n",
            "Suggested packages:\n",
            "  openjdk-8-demo openjdk-8-source libnss-mdns fonts-dejavu-extra\n",
            "  fonts-ipafont-gothic fonts-ipafont-mincho fonts-wqy-microhei\n",
            "  fonts-wqy-zenhei fonts-indic\n",
            "The following NEW packages will be installed:\n",
            "  openjdk-8-jdk-headless openjdk-8-jre-headless\n",
            "0 upgraded, 2 newly installed, 0 to remove and 43 not upgraded.\n",
            "Need to get 36.5 MB of archives.\n",
            "After this operation, 143 MB of additional disk space will be used.\n",
            "Selecting previously unselected package openjdk-8-jre-headless:amd64.\n",
            "(Reading database ... 155222 files and directories currently installed.)\n",
            "Preparing to unpack .../openjdk-8-jre-headless_8u292-b10-0ubuntu1~18.04_amd64.deb ...\n",
            "Unpacking openjdk-8-jre-headless:amd64 (8u292-b10-0ubuntu1~18.04) ...\n",
            "Selecting previously unselected package openjdk-8-jdk-headless:amd64.\n",
            "Preparing to unpack .../openjdk-8-jdk-headless_8u292-b10-0ubuntu1~18.04_amd64.deb ...\n",
            "Unpacking openjdk-8-jdk-headless:amd64 (8u292-b10-0ubuntu1~18.04) ...\n",
            "Setting up openjdk-8-jre-headless:amd64 (8u292-b10-0ubuntu1~18.04) ...\n",
            "update-alternatives: using /usr/lib/jvm/java-8-openjdk-amd64/jre/bin/orbd to provide /usr/bin/orbd (orbd) in auto mode\n",
            "update-alternatives: using /usr/lib/jvm/java-8-openjdk-amd64/jre/bin/servertool to provide /usr/bin/servertool (servertool) in auto mode\n",
            "update-alternatives: using /usr/lib/jvm/java-8-openjdk-amd64/jre/bin/tnameserv to provide /usr/bin/tnameserv (tnameserv) in auto mode\n",
            "Setting up openjdk-8-jdk-headless:amd64 (8u292-b10-0ubuntu1~18.04) ...\n",
            "update-alternatives: using /usr/lib/jvm/java-8-openjdk-amd64/bin/idlj to provide /usr/bin/idlj (idlj) in auto mode\n",
            "update-alternatives: using /usr/lib/jvm/java-8-openjdk-amd64/bin/wsimport to provide /usr/bin/wsimport (wsimport) in auto mode\n",
            "update-alternatives: using /usr/lib/jvm/java-8-openjdk-amd64/bin/jsadebugd to provide /usr/bin/jsadebugd (jsadebugd) in auto mode\n",
            "update-alternatives: using /usr/lib/jvm/java-8-openjdk-amd64/bin/native2ascii to provide /usr/bin/native2ascii (native2ascii) in auto mode\n",
            "update-alternatives: using /usr/lib/jvm/java-8-openjdk-amd64/bin/javah to provide /usr/bin/javah (javah) in auto mode\n",
            "update-alternatives: using /usr/lib/jvm/java-8-openjdk-amd64/bin/hsdb to provide /usr/bin/hsdb (hsdb) in auto mode\n",
            "update-alternatives: using /usr/lib/jvm/java-8-openjdk-amd64/bin/clhsdb to provide /usr/bin/clhsdb (clhsdb) in auto mode\n",
            "update-alternatives: using /usr/lib/jvm/java-8-openjdk-amd64/bin/extcheck to provide /usr/bin/extcheck (extcheck) in auto mode\n",
            "update-alternatives: using /usr/lib/jvm/java-8-openjdk-amd64/bin/schemagen to provide /usr/bin/schemagen (schemagen) in auto mode\n",
            "update-alternatives: using /usr/lib/jvm/java-8-openjdk-amd64/bin/xjc to provide /usr/bin/xjc (xjc) in auto mode\n",
            "update-alternatives: using /usr/lib/jvm/java-8-openjdk-amd64/bin/jhat to provide /usr/bin/jhat (jhat) in auto mode\n",
            "update-alternatives: using /usr/lib/jvm/java-8-openjdk-amd64/bin/wsgen to provide /usr/bin/wsgen (wsgen) in auto mode\n"
          ]
        }
      ]
    },
    {
      "cell_type": "code",
      "metadata": {
        "id": "x1r93Yf1uTwK"
      },
      "source": [
        "from pydrive.auth import GoogleAuth\n",
        "from pydrive.drive import GoogleDrive\n",
        "from google.colab import auth\n",
        "from oauth2client.client import GoogleCredentials\n",
        "\n",
        "# Authenticate and create the PyDrive client\n",
        "auth.authenticate_user()\n",
        "gauth = GoogleAuth()\n",
        "gauth.credentials = GoogleCredentials.get_application_default()\n",
        "drive = GoogleDrive(gauth)"
      ],
      "execution_count": null,
      "outputs": []
    },
    {
      "cell_type": "code",
      "metadata": {
        "id": "OXFWrGJbuiaC"
      },
      "source": [
        "id='1SE6k_0YukzGd5wK-E4i6mG83nydlfvSa'\n",
        "downloaded = drive.CreateFile({'id': id})\n",
        "downloaded.GetContentFile('pg100.txt')"
      ],
      "execution_count": null,
      "outputs": []
    },
    {
      "cell_type": "code",
      "metadata": {
        "id": "6DrcqFZdu_ja"
      },
      "source": [
        "from pyspark.sql import *\n",
        "from pyspark.sql.functions import *\n",
        "from pyspark import SparkContext\n",
        "import pandas as pd\n",
        "\n",
        "# create the Spark Session\n",
        "spark = SparkSession.builder.getOrCreate()\n",
        "\n",
        "# create the Spark Context\n",
        "sc = spark.sparkContext"
      ],
      "execution_count": null,
      "outputs": []
    },
    {
      "cell_type": "code",
      "metadata": {
        "id": "ZOgIFdL0vFtM"
      },
      "source": [
        ""
      ],
      "execution_count": null,
      "outputs": []
    },
    {
      "cell_type": "code",
      "metadata": {
        "id": "AuAxGFPFB43Y",
        "colab": {
          "base_uri": "https://localhost:8080/",
          "height": 1000
        },
        "outputId": "3fb87d69-49c5-45c5-e0c7-da53d93f469b"
      },
      "source": [
        "import re #regular expression used to split lines of text into words\n",
        "\n",
        "lines = sc.textFile(\"./pg100.txt\")\n",
        "\n",
        "#Split the lines into words (including all alphanumeric characters)\n",
        "words = lines.flatMap(lambda line: re.split(r'[^\\w]+', line))\n",
        "\n",
        "#Mapper\n",
        "words=words.distinct()\n",
        "letters = words.filter(lambda letter: letter.isalpha())\\\n",
        "                  .map(lambda word: word[0])                  \n",
        "pairs = words.map(lambda word: (word, 1))\n",
        "             \n",
        "\n",
        "pairs = letters.map(lambda letters: (letters, 1))\n",
        "counts = pairs.reduceByKey(lambda n1, n2: n1 + n2)\n",
        "counts.toDF().toPandas()\n"
      ],
      "execution_count": null,
      "outputs": [
        {
          "output_type": "execute_result",
          "data": {
            "text/html": [
              "<div>\n",
              "<style scoped>\n",
              "    .dataframe tbody tr th:only-of-type {\n",
              "        vertical-align: middle;\n",
              "    }\n",
              "\n",
              "    .dataframe tbody tr th {\n",
              "        vertical-align: top;\n",
              "    }\n",
              "\n",
              "    .dataframe thead th {\n",
              "        text-align: right;\n",
              "    }\n",
              "</style>\n",
              "<table border=\"1\" class=\"dataframe\">\n",
              "  <thead>\n",
              "    <tr style=\"text-align: right;\">\n",
              "      <th></th>\n",
              "      <th>_1</th>\n",
              "      <th>_2</th>\n",
              "    </tr>\n",
              "  </thead>\n",
              "  <tbody>\n",
              "    <tr>\n",
              "      <th>0</th>\n",
              "      <td>S</td>\n",
              "      <td>923</td>\n",
              "    </tr>\n",
              "    <tr>\n",
              "      <th>1</th>\n",
              "      <td>i</td>\n",
              "      <td>725</td>\n",
              "    </tr>\n",
              "    <tr>\n",
              "      <th>2</th>\n",
              "      <td>r</td>\n",
              "      <td>1081</td>\n",
              "    </tr>\n",
              "    <tr>\n",
              "      <th>3</th>\n",
              "      <td>g</td>\n",
              "      <td>678</td>\n",
              "    </tr>\n",
              "    <tr>\n",
              "      <th>4</th>\n",
              "      <td>C</td>\n",
              "      <td>773</td>\n",
              "    </tr>\n",
              "    <tr>\n",
              "      <th>5</th>\n",
              "      <td>c</td>\n",
              "      <td>2004</td>\n",
              "    </tr>\n",
              "    <tr>\n",
              "      <th>6</th>\n",
              "      <td>J</td>\n",
              "      <td>98</td>\n",
              "    </tr>\n",
              "    <tr>\n",
              "      <th>7</th>\n",
              "      <td>O</td>\n",
              "      <td>157</td>\n",
              "    </tr>\n",
              "    <tr>\n",
              "      <th>8</th>\n",
              "      <td>W</td>\n",
              "      <td>316</td>\n",
              "    </tr>\n",
              "    <tr>\n",
              "      <th>9</th>\n",
              "      <td>p</td>\n",
              "      <td>1679</td>\n",
              "    </tr>\n",
              "    <tr>\n",
              "      <th>10</th>\n",
              "      <td>L</td>\n",
              "      <td>347</td>\n",
              "    </tr>\n",
              "    <tr>\n",
              "      <th>11</th>\n",
              "      <td>R</td>\n",
              "      <td>373</td>\n",
              "    </tr>\n",
              "    <tr>\n",
              "      <th>12</th>\n",
              "      <td>N</td>\n",
              "      <td>180</td>\n",
              "    </tr>\n",
              "    <tr>\n",
              "      <th>13</th>\n",
              "      <td>s</td>\n",
              "      <td>2379</td>\n",
              "    </tr>\n",
              "    <tr>\n",
              "      <th>14</th>\n",
              "      <td>l</td>\n",
              "      <td>710</td>\n",
              "    </tr>\n",
              "    <tr>\n",
              "      <th>15</th>\n",
              "      <td>h</td>\n",
              "      <td>747</td>\n",
              "    </tr>\n",
              "    <tr>\n",
              "      <th>16</th>\n",
              "      <td>d</td>\n",
              "      <td>1359</td>\n",
              "    </tr>\n",
              "    <tr>\n",
              "      <th>17</th>\n",
              "      <td>b</td>\n",
              "      <td>1318</td>\n",
              "    </tr>\n",
              "    <tr>\n",
              "      <th>18</th>\n",
              "      <td>K</td>\n",
              "      <td>72</td>\n",
              "    </tr>\n",
              "    <tr>\n",
              "      <th>19</th>\n",
              "      <td>j</td>\n",
              "      <td>145</td>\n",
              "    </tr>\n",
              "    <tr>\n",
              "      <th>20</th>\n",
              "      <td>y</td>\n",
              "      <td>71</td>\n",
              "    </tr>\n",
              "    <tr>\n",
              "      <th>21</th>\n",
              "      <td>T</td>\n",
              "      <td>451</td>\n",
              "    </tr>\n",
              "    <tr>\n",
              "      <th>22</th>\n",
              "      <td>P</td>\n",
              "      <td>668</td>\n",
              "    </tr>\n",
              "    <tr>\n",
              "      <th>23</th>\n",
              "      <td>E</td>\n",
              "      <td>326</td>\n",
              "    </tr>\n",
              "    <tr>\n",
              "      <th>24</th>\n",
              "      <td>o</td>\n",
              "      <td>458</td>\n",
              "    </tr>\n",
              "    <tr>\n",
              "      <th>25</th>\n",
              "      <td>u</td>\n",
              "      <td>808</td>\n",
              "    </tr>\n",
              "    <tr>\n",
              "      <th>26</th>\n",
              "      <td>a</td>\n",
              "      <td>1132</td>\n",
              "    </tr>\n",
              "    <tr>\n",
              "      <th>27</th>\n",
              "      <td>n</td>\n",
              "      <td>335</td>\n",
              "    </tr>\n",
              "    <tr>\n",
              "      <th>28</th>\n",
              "      <td>w</td>\n",
              "      <td>763</td>\n",
              "    </tr>\n",
              "    <tr>\n",
              "      <th>29</th>\n",
              "      <td>m</td>\n",
              "      <td>1018</td>\n",
              "    </tr>\n",
              "    <tr>\n",
              "      <th>30</th>\n",
              "      <td>t</td>\n",
              "      <td>1030</td>\n",
              "    </tr>\n",
              "    <tr>\n",
              "      <th>31</th>\n",
              "      <td>D</td>\n",
              "      <td>527</td>\n",
              "    </tr>\n",
              "    <tr>\n",
              "      <th>32</th>\n",
              "      <td>B</td>\n",
              "      <td>523</td>\n",
              "    </tr>\n",
              "    <tr>\n",
              "      <th>33</th>\n",
              "      <td>G</td>\n",
              "      <td>297</td>\n",
              "    </tr>\n",
              "    <tr>\n",
              "      <th>34</th>\n",
              "      <td>F</td>\n",
              "      <td>390</td>\n",
              "    </tr>\n",
              "    <tr>\n",
              "      <th>35</th>\n",
              "      <td>V</td>\n",
              "      <td>145</td>\n",
              "    </tr>\n",
              "    <tr>\n",
              "      <th>36</th>\n",
              "      <td>I</td>\n",
              "      <td>228</td>\n",
              "    </tr>\n",
              "    <tr>\n",
              "      <th>37</th>\n",
              "      <td>M</td>\n",
              "      <td>481</td>\n",
              "    </tr>\n",
              "    <tr>\n",
              "      <th>38</th>\n",
              "      <td>A</td>\n",
              "      <td>604</td>\n",
              "    </tr>\n",
              "    <tr>\n",
              "      <th>39</th>\n",
              "      <td>Y</td>\n",
              "      <td>37</td>\n",
              "    </tr>\n",
              "    <tr>\n",
              "      <th>40</th>\n",
              "      <td>U</td>\n",
              "      <td>170</td>\n",
              "    </tr>\n",
              "    <tr>\n",
              "      <th>41</th>\n",
              "      <td>e</td>\n",
              "      <td>954</td>\n",
              "    </tr>\n",
              "    <tr>\n",
              "      <th>42</th>\n",
              "      <td>f</td>\n",
              "      <td>1058</td>\n",
              "    </tr>\n",
              "    <tr>\n",
              "      <th>43</th>\n",
              "      <td>v</td>\n",
              "      <td>388</td>\n",
              "    </tr>\n",
              "    <tr>\n",
              "      <th>44</th>\n",
              "      <td>q</td>\n",
              "      <td>123</td>\n",
              "    </tr>\n",
              "    <tr>\n",
              "      <th>45</th>\n",
              "      <td>k</td>\n",
              "      <td>131</td>\n",
              "    </tr>\n",
              "    <tr>\n",
              "      <th>46</th>\n",
              "      <td>H</td>\n",
              "      <td>347</td>\n",
              "    </tr>\n",
              "    <tr>\n",
              "      <th>47</th>\n",
              "      <td>z</td>\n",
              "      <td>17</td>\n",
              "    </tr>\n",
              "    <tr>\n",
              "      <th>48</th>\n",
              "      <td>X</td>\n",
              "      <td>7</td>\n",
              "    </tr>\n",
              "    <tr>\n",
              "      <th>49</th>\n",
              "      <td>Q</td>\n",
              "      <td>38</td>\n",
              "    </tr>\n",
              "    <tr>\n",
              "      <th>50</th>\n",
              "      <td>Z</td>\n",
              "      <td>3</td>\n",
              "    </tr>\n",
              "  </tbody>\n",
              "</table>\n",
              "</div>"
            ],
            "text/plain": [
              "   _1    _2\n",
              "0   S   923\n",
              "1   i   725\n",
              "2   r  1081\n",
              "3   g   678\n",
              "4   C   773\n",
              "5   c  2004\n",
              "6   J    98\n",
              "7   O   157\n",
              "8   W   316\n",
              "9   p  1679\n",
              "10  L   347\n",
              "11  R   373\n",
              "12  N   180\n",
              "13  s  2379\n",
              "14  l   710\n",
              "15  h   747\n",
              "16  d  1359\n",
              "17  b  1318\n",
              "18  K    72\n",
              "19  j   145\n",
              "20  y    71\n",
              "21  T   451\n",
              "22  P   668\n",
              "23  E   326\n",
              "24  o   458\n",
              "25  u   808\n",
              "26  a  1132\n",
              "27  n   335\n",
              "28  w   763\n",
              "29  m  1018\n",
              "30  t  1030\n",
              "31  D   527\n",
              "32  B   523\n",
              "33  G   297\n",
              "34  F   390\n",
              "35  V   145\n",
              "36  I   228\n",
              "37  M   481\n",
              "38  A   604\n",
              "39  Y    37\n",
              "40  U   170\n",
              "41  e   954\n",
              "42  f  1058\n",
              "43  v   388\n",
              "44  q   123\n",
              "45  k   131\n",
              "46  H   347\n",
              "47  z    17\n",
              "48  X     7\n",
              "49  Q    38\n",
              "50  Z     3"
            ]
          },
          "metadata": {},
          "execution_count": 17
        }
      ]
    },
    {
      "cell_type": "markdown",
      "metadata": {
        "id": "z6VD1Q_o_OVd"
      },
      "source": [
        "# Part 2: Finding Similar Items (18 points)\n",
        "\n",
        "Considering the following matrix representation of four documents (i.e., C1, C2, C3, and C4), fill the corresponding hash value for both h1 and h2 (i.e., replacing '-' with the corresponding hash value).\n",
        "\n",
        "|Row(i.e., x) | C1 | C2 | C3 | C4 | h1(x) = (2x+1) mod 5  | h2(x) = (3x+1) mod 5 |\n",
        "| --- | --- | --- | --- | --- | --- | --- |\n",
        "|1|1|0|0|1|3|4|\n",
        "|2|0|0|1|0|0|2|\n",
        "|3|0|1|0|1|2|0|\n",
        "|4|1|0|1|1|4|3|\n",
        "|5|0|0|1|0|1|1|\n",
        "\n",
        "Then, provide the signature matrix format of these four documents after applying those two hash functions in the following (i.e., replacing '-' with the corresponding signature).\n",
        "\n",
        "|C1|C2|C3|C4|\n",
        "|---|---|---|---|\n",
        "|3|2|0|2|\n",
        "|3|0|1|0|"
      ]
    },
    {
      "cell_type": "markdown",
      "metadata": {
        "id": "KMvkDXKDJNpt"
      },
      "source": [
        "# Part 3: Clustering\n",
        "\n",
        "This part will help you understand the details of implementing k-means both in a traditional way and in Spark (Optional: BONUS POINTS). In addition, this part will also help you understand the impact of using different distance metrics and initialization strategies in practice."
      ]
    },
    {
      "cell_type": "markdown",
      "metadata": {
        "id": "Q3XHQTJ0epb0"
      },
      "source": [
        "## Part 3.1: Introduction\n",
        "\n",
        "Let us say we have a set $X$ of $n$ data points in the $d$-dimensional space (i.e., $d$ features). Given the number of clusters $k$ and the set of $k$ centroids $C$, we now proceed to define various distance metrics and the corresponding cost functions that they minimize in clustering."
      ]
    },
    {
      "cell_type": "markdown",
      "metadata": {
        "id": "xtp8SV5LiThS"
      },
      "source": [
        "### 3.1.1 Euclidean Distance\n",
        "\n",
        "Given two points $A$ and $B$ in $d$ dimensional space such that $A = [a_1, a_2, \\cdots, a_d]$ and $B = [b_1, b_2, \\cdots, b_d]$, the Euclidean distance between $A$ and $B$ is defined as\n",
        "\n",
        "\\begin{equation}\n",
        "||A-B||=\\sqrt{\\sum_{i=1}^d (a_i-b_i)^2}\n",
        "\\end{equation}\n",
        "\n",
        "The corresponding cost function $\\phi$ that is minimized when we assign points to clusters using the Euclidean distance metric is given by [**NOTE: Pay attention to the square**]\n",
        "\n",
        "\\begin{equation}\n",
        "\\phi = \\sum_{x\\in X} \\min_{c\\in C}||x-c||^2\n",
        "\\end{equation}\n"
      ]
    },
    {
      "cell_type": "markdown",
      "metadata": {
        "id": "D_c6Rm-0kuX4"
      },
      "source": [
        "### 3.1.2 Manhattan distance\n",
        "\n",
        "The Manhattan distance between $A$ and $B$ is defined as\n",
        "\n",
        "\\begin{equation}\n",
        "|A-B| = \\sum_{i=1}^d|a_i-b_i|\n",
        "\\end{equation}\n",
        "\n",
        "The corresponding cost function $\\psi$ that is minimized when we assign points to clusters using the Manhattan distance metric is given by\n",
        "\n",
        "\\begin{equation}\n",
        "\\psi =\\sum_{x\\in X}\\min_{c\\in C}|x-c|\n",
        "\\end{equation}"
      ]
    },
    {
      "cell_type": "markdown",
      "metadata": {
        "id": "m4HuyngncVDS"
      },
      "source": [
        "### 3.1.3 Iterative K-Means Algorithm \n",
        "\n",
        "We learned the basic k-means algorithm in class which is as follows: $k$ centroids are initialized, each point is assigned to the nearest centroid and the centroids are recomputed based on the assignments of points to clusters. In practice, the above steps are run for several iterations. We present the resulting iterative version of k-means in Algorithm 1.\n",
        "\n",
        "--------------------------------------------------------\n",
        "\n",
        "Algorithm 1: Iterative K-Means Algorithm\n",
        "\n",
        "1. Select $k$ points as initial centroids of the $k$ clusters.\n",
        "\n",
        "2. for iterations 1 to MAX_ITER do\n",
        "  * for each point $p$ in the dataset do\n",
        "      * Assign point $p$ to the cluster with the closest centroid\n",
        "  * end for\n",
        "  * for each cluster $c$ do\n",
        "    * Recompute the centroid of $c$ as the mean of all the data points assigned to $c$\n",
        "  * end for\n",
        "3. end for\n",
        "\n",
        "---------------------------------------------------------"
      ]
    },
    {
      "cell_type": "markdown",
      "metadata": {
        "id": "D_nZN7OQoB86"
      },
      "source": [
        "### 3.1.4 Data and Setup\n",
        "\n",
        "Please use the dataset in kmeans.zip downloaded from Canvas of A4.\n",
        "\n",
        "The zip has 3 files:\n",
        "\n",
        "    1. data.txt contains the dataset which has 4601 rows and 58 columns. Each row is a document represented as a 58 dimensional vector of features. Each component in the vector represents the importance of a word in the document.\n",
        "\n",
        "    2. c1.txt contains k initial cluster centroids. These centroids were chosen by selecting k = 10 random points from the input data.\n",
        "\n",
        "    3. c2.txt contains initial cluster centroids which are as far apart as possible using 'Euclidean distance' (i.e., k-means++).\n",
        "\n",
        "Set number of iterations MAX_ITER=25 and number of clusters $k=10$ for all the following experiments. **Your program should ensure that the correct number of iterations are run.**"
      ]
    },
    {
      "cell_type": "markdown",
      "metadata": {
        "id": "6PARCj3IaWOV"
      },
      "source": [
        "## Part 3.2: Exploring initialization strategies with Euclidean distance\n",
        "\n",
        "In this part, you are expected to implement the traditional k-means (small-scale version) using the Euclidean distance. **Note: you should implement k-means according to the above introduction by yourself (i.e., not using existing k-means lib), while you may use python lib for Euclidean distance calculation. There is no constrains on how you implement. Pay close attention on how cost should be calculated.** "
      ]
    },
    {
      "cell_type": "markdown",
      "metadata": {
        "id": "vy81_fL8rL4I"
      },
      "source": [
        "#### Question 3.2.1 [18 points]\n",
        "\n",
        "Using the Euclidean distance as the distance measure, compute the cost function $\\phi(i)$ for every iteration $i$.\n",
        "\n",
        "For the first iteration, you will be computing the cost function using the initial centroids located in one of the two text files. \n",
        "\n",
        "Run your k-means on data.txt using c1.txt and c2.txt separately. Generate a graph where you plot the cost as the number of iterations increases for both c1.txt and c2.txt (e.g., two lines in one graph). \n",
        "\n",
        "**Your visualization should be easy to follow considering those techniques of visualization we discussed in class. The expected plot is provided in A4 folder of Canvas for your self-checking.**"
      ]
    },
    {
      "cell_type": "code",
      "metadata": {
        "id": "ZEN92GPDtSf1"
      },
      "source": [
        "import pandas as pd\n",
        "import numpy as np\n",
        "datapd= pd.read_csv(\"/data.txt\",header=None,delimiter=\" \")\n",
        "c1pd= pd.read_csv(\"/c1.txt\",header=None,delimiter=\" \")\n",
        "c2pd= pd.read_csv(\"/c2.txt\",header=None,delimiter=\" \")\n",
        "c1=c1pd.to_numpy()\n",
        "c2=c2pd.to_numpy()\n",
        "data=datapd.to_numpy()"
      ],
      "execution_count": null,
      "outputs": []
    },
    {
      "cell_type": "code",
      "source": [
        "#creating the K means Algorithm\n",
        "def K_MEANS(k,MAXITER,C,distance):\n",
        "  xaxis=[]\n",
        "  yaxis=[]\n",
        "  for iter in range(0,MAXITER):\n",
        "    costeuc=[]\n",
        "    cluster=[]\n",
        "    for i in data:\n",
        "      x=np.zeros(0)\n",
        "      #distance calulation\n",
        "      if (distance==\"euclidean\"):\n",
        "        for j in C:\n",
        "          distance_euc=np.sqrt(np.sum((i-j)**2))\n",
        "          x=np.append(x,distance_euc)\n",
        "        costeuc.append(np.amin(x)**2)\n",
        "      elif(distance==\"manhattan\"):\n",
        "        for j in C:\n",
        "          distance_man=np.sum(np.abs(i-j))\n",
        "          x=np.append(x,distance_man)\n",
        "        costeuc.append(np.amin(x))\n",
        "       #finding the index of cluster with the minimum distance  \n",
        "      index=np.where(x==np.amin(x))\n",
        "      cluster=np.append(cluster,index[0][0])\n",
        "    cluster=cluster.astype(int)\n",
        "    newcentroid=np.empty(shape=C.shape)\n",
        "    #updating the centroid by finding the sum and average\n",
        "    for i in range(data.shape[0]):\n",
        "      newcentroid[cluster[i]]+=data[i]\n",
        "    unique, counts = np.unique(cluster, return_counts=True)\n",
        "    for i in range(k):\n",
        "      newcentroid[i]=newcentroid[i]/counts[i]\n",
        "    C=newcentroid\n",
        "    xaxis.append(iter)\n",
        "    #calcualting the total sum\n",
        "    yaxis.append(np.sum(costeuc))\n",
        "  return xaxis,yaxis"
      ],
      "metadata": {
        "id": "xrHw_B-F7h0E"
      },
      "execution_count": null,
      "outputs": []
    },
    {
      "cell_type": "code",
      "source": [
        "x1,y1=K_MEANS(10,25,c1,\"euclidean\")\n",
        "x2,y2=K_MEANS(10,25,c2,\"euclidean\")"
      ],
      "metadata": {
        "id": "IclhL9PxsWCn"
      },
      "execution_count": null,
      "outputs": []
    },
    {
      "cell_type": "code",
      "source": [
        "import seaborn as sns\n",
        "d={'C1':y1,'C2':y2}\n",
        "costplot=pd.DataFrame(d)\n",
        "ax=sns.lineplot(data=costplot)\n",
        "ax.set(xlabel='ITERATION', ylabel='COST FUNCTION', title=\"EUCLIDEAN DISTANCE COST OF C1 and C2\")\n",
        "print(\" \")"
      ],
      "metadata": {
        "colab": {
          "base_uri": "https://localhost:8080/",
          "height": 312
        },
        "id": "8aXmvaqW2in4",
        "outputId": "a6a3d8cf-23b5-44f2-b64f-0dd4c5ed077a"
      },
      "execution_count": null,
      "outputs": [
        {
          "output_type": "stream",
          "name": "stdout",
          "text": [
            " \n"
          ]
        },
        {
          "output_type": "display_data",
          "data": {
            "image/png": "[encoded data removed]",
            "text/plain": [
              "<Figure size 432x288 with 1 Axes>"
            ]
          },
          "metadata": {
            "needs_background": "light"
          }
        }
      ]
    },
    {
      "cell_type": "markdown",
      "metadata": {
        "id": "LSTkbvaotVkX"
      },
      "source": [
        "### Question 3.2.2 [3 points]\n",
        "\n",
        "Looking at the cost after 10 iterations, is random initialization of k-means using c1.txt better than initialization using c2.txt? Explain your reasoning on why."
      ]
    },
    {
      "cell_type": "markdown",
      "metadata": {
        "id": "Ix536tYYv7jf"
      },
      "source": [
        "After 10 iterations we can see that the cost of iterations for centroid found with k means is less than the cost of iterations for centroid found using random method and so we can say that the Centroid found by k means are better."
      ]
    },
    {
      "cell_type": "markdown",
      "metadata": {
        "id": "tgHBFLYvwNRY"
      },
      "source": [
        "## Part 3.3: Exploring initialization strategies with Manhattan distance\n",
        "\n"
      ]
    },
    {
      "cell_type": "markdown",
      "metadata": {
        "id": "laSY2tEEwYq-"
      },
      "source": [
        "### Question 3.3.1 [9 points]\n",
        "\n",
        "Similar to Question 3.2.1, using the Manhattan distance as the distance measure, compute the cost function $\\psi(i)$ for every iteration $i$.\n",
        "\n",
        "For the first iteration, you will be computing the cost function using the initial centroids located in one of the two text files. \n",
        "\n",
        "Run your k-means on data.txt using c1.txt and c2.txt separately. Generate a graph where you plot the cost as the number of iterations increases for both c1.txt and c2.txt (e.g., two lines in one graph).\n",
        "\n",
        "**Your visualization should be easy to follow considering those techniques of visualization we discussed in class. The expected plot is provided in A4 folder of Canvas for your self-checking.**"
      ]
    },
    {
      "cell_type": "code",
      "metadata": {
        "id": "DV5jF1eSw2eP"
      },
      "source": [
        "x3,y3=K_MEANS(10,25,c1,\"manhattan\")\n",
        "x4,y4=K_MEANS(10,25,c2,\"manhattan\")"
      ],
      "execution_count": null,
      "outputs": []
    },
    {
      "cell_type": "code",
      "source": [
        "#plotting the cost vs iteration\n",
        "d={'C1':y3,'C2':y4}\n",
        "costplot=pd.DataFrame(d)\n",
        "ax=sns.lineplot(data=costplot)\n",
        "ax.set(xlabel='ITERATION', ylabel='COST FUNCTION', title=\"MANHATTAN DISTANCE COST OF C1 and C2\")\n",
        "print(\" \")\n"
      ],
      "metadata": {
        "colab": {
          "base_uri": "https://localhost:8080/",
          "height": 312
        },
        "id": "tBXKfJ3G9t3f",
        "outputId": "a58a2022-eb0d-41e5-c00e-34aba34f259c"
      },
      "execution_count": null,
      "outputs": [
        {
          "output_type": "stream",
          "name": "stdout",
          "text": [
            " \n"
          ]
        },
        {
          "output_type": "display_data",
          "data": {
            "image/png": "[encoded data removed]",
            "text/plain": [
              "<Figure size 432x288 with 1 Axes>"
            ]
          },
          "metadata": {
            "needs_background": "light"
          }
        }
      ]
    },
    {
      "cell_type": "code",
      "source": [
        ""
      ],
      "metadata": {
        "id": "YQaRrkHc9uMj"
      },
      "execution_count": null,
      "outputs": []
    },
    {
      "cell_type": "markdown",
      "metadata": {
        "id": "LPdEYCFFxZoK"
      },
      "source": [
        "### Question 3.3.2 [3 points]\n",
        "\n",
        "Looking at the cost after 10 iterations, is random initialization of k-means using c1.txt better than initialization using c2.txt? Explain your reasoning on why."
      ]
    },
    {
      "cell_type": "markdown",
      "metadata": {
        "id": "SpT_Jd_Sxucl"
      },
      "source": [
        "After 10 iterations the random initialisation of k means using C1 is better than C2 as the total cost for manhattan distance for c1 is much lower than c2 "
      ]
    },
    {
      "cell_type": "markdown",
      "metadata": {
        "id": "VEaO0FRSy95U"
      },
      "source": [
        "## Part 3.4 [BONUS: OPTIONAL]: K-Means using MapReduce in Spark (+20 points)\n",
        "\n",
        "This is an optional part. You will implement k-means using MapReduce in Spark when the data is stored in multiple machines. You may use the following steps as a reference for your implementation.\n",
        "\n",
        "1. Setup Spark environment as the Spark Example in Lecture. You may define a `SparkContext` as `sc`.\n",
        "\n",
        "2. Use `sc.textFile()` to load data (data.txt) and both initializations (c1.txt and c2.txt) separately. [HINT: `sc.textFile()` will load data line by line as a string, you may apply `Map` to each line to split those values using space and store them as numerical values in `np.array`]\n",
        "\n",
        "3. Centroids of c1 and c2 should be collected (`.collect()`) for each Mapper since they are small, while data should not.\n",
        "\n",
        "4. Use `Map` to assign each data point in each Mapper to the nearest centroid. The cost of each data point can be added using `Map` immediately after the assignment.\n",
        "\n",
        "5. Use `Reduce` to recompute new centroids that should be collected (`.collect()`) again. [HINT: `Reduce` may calculate the sum of all data points assigned to the same cluster (i.e., the same key). Another 'Map' may be used to calculate the average]"
      ]
    },
    {
      "cell_type": "markdown",
      "metadata": {
        "id": "04OCnbEX6uJP"
      },
      "source": [
        "### Question 3.4.1 [+20 points]\n",
        "\n",
        "Implement Spark k-means using the Euclidean distance as the distance measure, compute the cost function $\\phi(i)$ for every iteration $i$ of data.txt for both c1.txt and c2.txt and plot. The plot is expected to be same as Question 3.2.1.\n",
        "\n",
        "**Your visualization should be easy to follow considering those techniques of visualization we discussed in class.**"
      ]
    },
    {
      "cell_type": "code",
      "metadata": {
        "id": "Ro5QXRi9-v50",
        "colab": {
          "base_uri": "https://localhost:8080/"
        },
        "outputId": "9436b3c8-8a74-4995-dffd-5cca37ecd274"
      },
      "source": [
        "!pip install pyspark\n",
        "!pip install -U -q PyDrive\n",
        "!apt-get update\n",
        "!apt install openjdk-8-jdk-headless -qq\n",
        "import os\n",
        "os.environ[\"JAVA_HOME\"] = \"/usr/lib/jvm/java-8-openjdk-amd64\""
      ],
      "execution_count": 3,
      "outputs": [
        {
          "output_type": "stream",
          "name": "stdout",
          "text": [
            "Collecting pyspark\n",
            "  Downloading pyspark-3.2.0.tar.gz (281.3 MB)\n",
            "\u001b[K     |████████████████████████████████| 281.3 MB 40 kB/s \n",
            "\u001b[?25hCollecting py4j==0.10.9.2\n",
            "  Downloading py4j-0.10.9.2-py2.py3-none-any.whl (198 kB)\n",
            "\u001b[K     |████████████████████████████████| 198 kB 64.3 MB/s \n",
            "\u001b[?25hBuilding wheels for collected packages: pyspark\n",
            "  Building wheel for pyspark (setup.py) ... \u001b[?25l\u001b[?25hdone\n",
            "  Created wheel for pyspark: filename=pyspark-3.2.0-py2.py3-none-any.whl size=281805912 sha256=d832b3e728e8bbe6a008ba7f73a9b62e305b63d6a66cfc62479430db93149501\n",
            "  Stored in directory: /root/.cache/pip/wheels/0b/de/d2/9be5d59d7331c6c2a7c1b6d1a4f463ce107332b1ecd4e80718\n",
            "Successfully built pyspark\n",
            "Installing collected packages: py4j, pyspark\n",
            "Successfully installed py4j-0.10.9.2 pyspark-3.2.0\n",
            "Get:1 http://security.ubuntu.com/ubuntu bionic-security InRelease [88.7 kB]\n",
            "Get:2 https://cloud.r-project.org/bin/linux/ubuntu bionic-cran40/ InRelease [3,626 B]\n",
            "Ign:3 https://developer.download.nvidia.com/compute/cuda/repos/ubuntu1804/x86_64  InRelease\n",
            "Get:4 http://ppa.launchpad.net/c2d4u.team/c2d4u4.0+/ubuntu bionic InRelease [15.9 kB]\n",
            "Hit:5 http://archive.ubuntu.com/ubuntu bionic InRelease\n",
            "Ign:6 https://developer.download.nvidia.com/compute/machine-learning/repos/ubuntu1804/x86_64  InRelease\n",
            "Hit:7 https://developer.download.nvidia.com/compute/cuda/repos/ubuntu1804/x86_64  Release\n",
            "Hit:8 https://developer.download.nvidia.com/compute/machine-learning/repos/ubuntu1804/x86_64  Release\n",
            "Get:9 http://archive.ubuntu.com/ubuntu bionic-updates InRelease [88.7 kB]\n",
            "Get:10 http://security.ubuntu.com/ubuntu bionic-security/main amd64 Packages [2,461 kB]\n",
            "Hit:11 http://ppa.launchpad.net/cran/libgit2/ubuntu bionic InRelease\n",
            "Get:12 http://security.ubuntu.com/ubuntu bionic-security/universe amd64 Packages [1,450 kB]\n",
            "Get:13 http://archive.ubuntu.com/ubuntu bionic-backports InRelease [74.6 kB]\n",
            "Get:14 http://security.ubuntu.com/ubuntu bionic-security/restricted amd64 Packages [691 kB]\n",
            "Get:15 http://ppa.launchpad.net/deadsnakes/ppa/ubuntu bionic InRelease [15.9 kB]\n",
            "Hit:16 http://ppa.launchpad.net/graphics-drivers/ppa/ubuntu bionic InRelease\n",
            "Get:19 http://ppa.launchpad.net/c2d4u.team/c2d4u4.0+/ubuntu bionic/main Sources [1,819 kB]\n",
            "Get:20 http://archive.ubuntu.com/ubuntu bionic-updates/main amd64 Packages [2,898 kB]\n",
            "Get:21 http://ppa.launchpad.net/c2d4u.team/c2d4u4.0+/ubuntu bionic/main amd64 Packages [933 kB]\n",
            "Get:22 http://archive.ubuntu.com/ubuntu bionic-updates/universe amd64 Packages [2,228 kB]\n",
            "Get:23 http://ppa.launchpad.net/deadsnakes/ppa/ubuntu bionic/main amd64 Packages [45.9 kB]\n",
            "Fetched 12.8 MB in 4s (3,537 kB/s)\n",
            "Reading package lists... Done\n",
            "The following additional packages will be installed:\n",
            "  openjdk-8-jre-headless\n",
            "Suggested packages:\n",
            "  openjdk-8-demo openjdk-8-source libnss-mdns fonts-dejavu-extra\n",
            "  fonts-ipafont-gothic fonts-ipafont-mincho fonts-wqy-microhei\n",
            "  fonts-wqy-zenhei fonts-indic\n",
            "The following NEW packages will be installed:\n",
            "  openjdk-8-jdk-headless openjdk-8-jre-headless\n",
            "0 upgraded, 2 newly installed, 0 to remove and 58 not upgraded.\n",
            "Need to get 36.5 MB of archives.\n",
            "After this operation, 143 MB of additional disk space will be used.\n",
            "Selecting previously unselected package openjdk-8-jre-headless:amd64.\n",
            "(Reading database ... 155222 files and directories currently installed.)\n",
            "Preparing to unpack .../openjdk-8-jre-headless_8u292-b10-0ubuntu1~18.04_amd64.deb ...\n",
            "Unpacking openjdk-8-jre-headless:amd64 (8u292-b10-0ubuntu1~18.04) ...\n",
            "Selecting previously unselected package openjdk-8-jdk-headless:amd64.\n",
            "Preparing to unpack .../openjdk-8-jdk-headless_8u292-b10-0ubuntu1~18.04_amd64.deb ...\n",
            "Unpacking openjdk-8-jdk-headless:amd64 (8u292-b10-0ubuntu1~18.04) ...\n",
            "Setting up openjdk-8-jre-headless:amd64 (8u292-b10-0ubuntu1~18.04) ...\n",
            "update-alternatives: using /usr/lib/jvm/java-8-openjdk-amd64/jre/bin/orbd to provide /usr/bin/orbd (orbd) in auto mode\n",
            "update-alternatives: using /usr/lib/jvm/java-8-openjdk-amd64/jre/bin/servertool to provide /usr/bin/servertool (servertool) in auto mode\n",
            "update-alternatives: using /usr/lib/jvm/java-8-openjdk-amd64/jre/bin/tnameserv to provide /usr/bin/tnameserv (tnameserv) in auto mode\n",
            "Setting up openjdk-8-jdk-headless:amd64 (8u292-b10-0ubuntu1~18.04) ...\n",
            "update-alternatives: using /usr/lib/jvm/java-8-openjdk-amd64/bin/idlj to provide /usr/bin/idlj (idlj) in auto mode\n",
            "update-alternatives: using /usr/lib/jvm/java-8-openjdk-amd64/bin/wsimport to provide /usr/bin/wsimport (wsimport) in auto mode\n",
            "update-alternatives: using /usr/lib/jvm/java-8-openjdk-amd64/bin/jsadebugd to provide /usr/bin/jsadebugd (jsadebugd) in auto mode\n",
            "update-alternatives: using /usr/lib/jvm/java-8-openjdk-amd64/bin/native2ascii to provide /usr/bin/native2ascii (native2ascii) in auto mode\n",
            "update-alternatives: using /usr/lib/jvm/java-8-openjdk-amd64/bin/javah to provide /usr/bin/javah (javah) in auto mode\n",
            "update-alternatives: using /usr/lib/jvm/java-8-openjdk-amd64/bin/hsdb to provide /usr/bin/hsdb (hsdb) in auto mode\n",
            "update-alternatives: using /usr/lib/jvm/java-8-openjdk-amd64/bin/clhsdb to provide /usr/bin/clhsdb (clhsdb) in auto mode\n",
            "update-alternatives: using /usr/lib/jvm/java-8-openjdk-amd64/bin/extcheck to provide /usr/bin/extcheck (extcheck) in auto mode\n",
            "update-alternatives: using /usr/lib/jvm/java-8-openjdk-amd64/bin/schemagen to provide /usr/bin/schemagen (schemagen) in auto mode\n",
            "update-alternatives: using /usr/lib/jvm/java-8-openjdk-amd64/bin/xjc to provide /usr/bin/xjc (xjc) in auto mode\n",
            "update-alternatives: using /usr/lib/jvm/java-8-openjdk-amd64/bin/jhat to provide /usr/bin/jhat (jhat) in auto mode\n",
            "update-alternatives: using /usr/lib/jvm/java-8-openjdk-amd64/bin/wsgen to provide /usr/bin/wsgen (wsgen) in auto mode\n"
          ]
        }
      ]
    },
    {
      "cell_type": "code",
      "source": [
        "from pyspark.sql import *\n",
        "from pyspark.sql.functions import *\n",
        "from pyspark import SparkContext,SparkConf\n",
        "import numpy as np\n"
      ],
      "metadata": {
        "id": "j65U_37sAFUv"
      },
      "execution_count": 17,
      "outputs": []
    },
    {
      "cell_type": "code",
      "source": [
        "conf = SparkConf()\n",
        "sc = SparkContext.getOrCreate(conf=conf)\n",
        "data1 = sc.textFile(\"/data.txt\").map(\n",
        "        lambda line: np.array([float(x) for x in line.split(' ')])\n",
        "        ).cache()\n",
        "\n",
        "c1 = sc.textFile(\"/c1.txt\").map(lambda line: np.array([float(x) for x in line.split(' ')])).collect()\n",
        "c2 = sc.textFile(\"/c2.txt\").map(lambda line: np.array([float(x) for x in line.split(' ')])).collect()"
      ],
      "metadata": {
        "id": "z5yzqATwJodK"
      },
      "execution_count": 60,
      "outputs": []
    },
    {
      "cell_type": "code",
      "source": [
        "\n",
        "MAX_ITER=25\n",
        "def closest(p, centroids):\n",
        "    \n",
        "    \n",
        "    cluster=[]\n",
        "    x=[]\n",
        "    for j in centroids:\n",
        "      distance_euc=np.sqrt(np.sum((p-j)**2))\n",
        "      x=np.append(x,distance_euc)\n",
        "    cost=np.amin(x)      \n",
        "    index=np.where(x==cost)\n",
        "    cluster=np.append(cluster,index[0][0])\n",
        "    cluster=cluster.astype(int)\n",
        "    return cluster[0]"
      ],
      "metadata": {
        "id": "AieM-8_xAtY-"
      },
      "execution_count": 64,
      "outputs": []
    },
    {
      "cell_type": "code",
      "source": [
        "def cost_calculation(p,c):\n",
        "    return np.sum((p-c)**2)"
      ],
      "metadata": {
        "id": "y0ZmvnUNS-qi"
      },
      "execution_count": 65,
      "outputs": []
    },
    {
      "cell_type": "code",
      "source": [
        "def kmeans(data, centroids):\n",
        "    total_cost = []\n",
        "    \n",
        "    for t in range(1,MAX_ITER+1):\n",
        "        \n",
        "       \n",
        "        combo = data.map(lambda point: (closest(point, centroids), (point, 1))).cache()\n",
        "        \n",
        "        #calcualte the cost\n",
        "        cost = combo.map(lambda x :(t,cost_calculation(x[1][0],centroids[x[0]])) ) \n",
        "        #sum the total cost\n",
        "        cost_sum=cost.reduceByKey(lambda x,y:x+y)\n",
        "        total_cost.append(cost_sum.collect()[0][1])\n",
        "        #calculate the next centroid\n",
        "        sum_rdd=combo.reduceByKey(lambda x,y:(x[0]+y[0],x[1]+y[1]))\n",
        "        new_centroid = sum_rdd.mapValues(lambda x:x[0]/x[1])\n",
        "        temp=new_centroid.collect()\n",
        "        for i in range(10):\n",
        "          centroids[i]=temp[i][1]\n",
        "            \n",
        "    return total_cost"
      ],
      "metadata": {
        "id": "n7tm__viQKP_"
      },
      "execution_count": 63,
      "outputs": []
    },
    {
      "cell_type": "code",
      "source": [
        ""
      ],
      "metadata": {
        "id": "M8A19vE89bYr"
      },
      "execution_count": 47,
      "outputs": []
    },
    {
      "cell_type": "code",
      "source": [
        "cost1 = kmeans(data1, c1)\n",
        "cost2 = kmeans(data1, c2)\n",
        "sc.stop()"
      ],
      "metadata": {
        "id": "YiI9XWwnO9ao"
      },
      "execution_count": 62,
      "outputs": []
    },
    {
      "cell_type": "code",
      "source": [
        "\n",
        "d={'C1':cost1,'C2':cost2}\n",
        "costplot=pd.DataFrame(d)\n",
        "ax=sns.lineplot(data=costplot)\n",
        "ax.set(xlabel='ITERATION', ylabel='COST FUNCTION', title=\"EUCLIDEAN DISTANCE COST OF C1 and C2\")\n",
        "print(\" \")"
      ],
      "metadata": {
        "colab": {
          "base_uri": "https://localhost:8080/",
          "height": 313
        },
        "id": "SVGYnpIGPfEE",
        "outputId": "7362948a-744c-47b6-856f-6ec9b4ebba2f"
      },
      "execution_count": 54,
      "outputs": [
        {
          "output_type": "stream",
          "name": "stdout",
          "text": [
            " \n"
          ]
        },
        {
          "output_type": "display_data",
          "data": {
            "image/png": "[encoded data removed]",
            "text/plain": [
              "<Figure size 432x288 with 1 Axes>"
            ]
          },
          "metadata": {
            "needs_background": "light"
          }
        }
      ]
    },
    {
      "cell_type": "markdown",
      "metadata": {
        "id": "evPQfgeRX3P-"
      },
      "source": [
        "# Submission\n",
        "\n",
        "Make sure you have run all cells in your notebook in order, so that all images/graphs appear in the output. \n",
        "1. Under 'File' tab to Print as PDF\n",
        "2. Download ipynb \n",
        "3. Submit both PDF and ipynb to Canvas (NOT zip)"
      ]
    }
  ]
}